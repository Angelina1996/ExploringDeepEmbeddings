{
 "cells": [
  {
   "cell_type": "markdown",
   "metadata": {},
   "source": [
    "# MNIST Embeddings\n",
    "-------------"
   ]
  },
  {
   "cell_type": "code",
   "execution_count": 1,
   "metadata": {},
   "outputs": [
    {
     "name": "stdout",
     "output_type": "stream",
     "text": [
      "E:\\Research\\ExploringDeepEmbeddings\n"
     ]
    }
   ],
   "source": [
    "import torch\n",
    "import os\n",
    "import numpy as np\n",
    "import os\n",
    "\n",
    "os.chdir('..'); print(os.getcwd())\n",
    "\n",
    "from Code.DeepFeatures import DeepFeatures"
   ]
  },
  {
   "cell_type": "markdown",
   "metadata": {},
   "source": [
    "## Create Dataloader\n",
    "----------------------------"
   ]
  },
  {
   "cell_type": "code",
   "execution_count": 2,
   "metadata": {},
   "outputs": [],
   "source": [
    "from torchvision import transforms\n",
    "from torchvision.datasets import MNIST\n",
    "import torch\n",
    "\n",
    "BATCH_SIZE = 100\n",
    "\n",
    "def stack(tensor, times=3):\n",
    "  return(torch.cat([tensor]*times, dim=0))\n",
    "\n",
    "tfs = transforms.Compose([transforms.Resize((221,221)), \n",
    "                          transforms.ToTensor(),\n",
    "                          transforms.Normalize(mean=[0.485], std=[0.229]),\n",
    "                          stack])\n",
    "\n",
    "MNIST_data = MNIST(root = r'./Data/MNIST', download=True, transform=tfs)\n",
    "data_loader = torch.utils.data.DataLoader(MNIST_data,\n",
    "                                          batch_size=BATCH_SIZE,\n",
    "                                          shuffle=True)"
   ]
  },
  {
   "cell_type": "markdown",
   "metadata": {},
   "source": [
    "## Initialize Pretrained Model\n",
    "-------------------"
   ]
  },
  {
   "cell_type": "code",
   "execution_count": 3,
   "metadata": {},
   "outputs": [],
   "source": [
    "import torchvision.models as models\n",
    "vgg16 = models.vgg16(pretrained=True)\n",
    "vgg16.classifier = vgg16.classifier[0:4]\n",
    "#vgg16.eval() # Setup for inferencing"
   ]
  },
  {
   "cell_type": "markdown",
   "metadata": {},
   "source": [
    "## Initialize Tensorboard Logging Class\n",
    "--------------"
   ]
  },
  {
   "cell_type": "code",
   "execution_count": 4,
   "metadata": {},
   "outputs": [],
   "source": [
    "imgs_folder = './Outputs/Images'\n",
    "embs_folder = './Outputs/Embeddings'\n",
    "tb_folder = './Outputs/Tensorboard'\n",
    "\n",
    "\n",
    "DF = DeepFeatures(model = vgg16, imgs_folder = imgs_folder, embs_folder = embs_folder, tensorboard_folder = tb_folder, experiment_name=\"MNIST_Embeddings\")"
   ]
  },
  {
   "cell_type": "markdown",
   "metadata": {},
   "source": [
    "## Write Embeddings to Tensorboard\n",
    "------------"
   ]
  },
  {
   "cell_type": "code",
   "execution_count": 5,
   "metadata": {},
   "outputs": [],
   "source": [
    "batch_imgs, batch_labels = next(iter(data_loader))"
   ]
  },
  {
   "cell_type": "code",
   "execution_count": 6,
   "metadata": {},
   "outputs": [
    {
     "data": {
      "text/plain": [
       "True"
      ]
     },
     "execution_count": 6,
     "metadata": {},
     "output_type": "execute_result"
    }
   ],
   "source": [
    "DF.write_embeddings(x = batch_imgs)"
   ]
  },
  {
   "cell_type": "code",
   "execution_count": 7,
   "metadata": {},
   "outputs": [
    {
     "name": "stdout",
     "output_type": "stream",
     "text": [
      "Warning: logfile already exists\n",
      "logging directory: ./Outputs/Tensorboard\\MNIST_Embeddings\n",
      "torch.Size([100, 4096])\n",
      "torch.Size([100, 3, 28, 28])\n",
      "warning: Embedding dir exists, did you set global_step for add_embedding()?\n"
     ]
    }
   ],
   "source": [
    "DF.create_tensorboard_log()"
   ]
  },
  {
   "cell_type": "code",
   "execution_count": null,
   "metadata": {},
   "outputs": [],
   "source": []
  }
 ],
 "metadata": {
  "kernelspec": {
   "display_name": "Python 3",
   "language": "python",
   "name": "python3"
  },
  "language_info": {
   "codemirror_mode": {
    "name": "ipython",
    "version": 3
   },
   "file_extension": ".py",
   "mimetype": "text/x-python",
   "name": "python",
   "nbconvert_exporter": "python",
   "pygments_lexer": "ipython3",
   "version": "3.8.2"
  }
 },
 "nbformat": 4,
 "nbformat_minor": 4
}
